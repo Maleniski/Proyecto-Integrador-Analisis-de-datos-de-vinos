{
 "cells": [
  {
   "cell_type": "markdown",
   "metadata": {},
   "source": [
    "# Proyecto Final: Creación de base de datos, conexión y análisis desde Jupyter Notebook\n",
    "\n",
    "Universidad de Sonora\n",
    "\n",
    "Maestría en Ciencia de Datos\n",
    "\n",
    "**Alumna:** María Elena Martínez Manzanares\n",
    "\n",
    "**Docente:** Doctor Juan Pablo Soto Barrera\n",
    "\n",
    "**Asignatura:** Introducción a la Ciencia de Datos y sus Metodologías\n",
    "\n",
    "***\n",
    "\n",
    "**Instrucciones.**\n",
    "\n",
    "1. Crear una base de datos por medio del manejador MySql, SQLite, o PostgreSQL que se componga de una o varias tablas. \n",
    "2. Por medio de un Jupyter Notebook crear una conexión a la base de datos. Realizar una consulta a la base de datos desde el notebook.\n",
    "3. Con los datos disponibles en el Notebook, crear una o más gráficas que representen la información descargada.\n",
    "4. Documentar su trabajo en formato libre pero de manera comprensiva.\n",
    "\n",
    "***\n",
    "\n",
    "**Observación.** Se documentó el trabajo en este Jupyter Notebook, por lo que el punto 4 de las instrucciones se satisface con el presente archivo."
   ]
  },
  {
   "cell_type": "markdown",
   "metadata": {},
   "source": [
    "## Punto 0. Descripción de la fuente de datos."
   ]
  },
  {
   "cell_type": "markdown",
   "metadata": {},
   "source": [
    "Para este trabajo haremos uso de la tabla [Map of Migrant Mortality](https://humaneborders.info/app/map.asp) de [Arizona OpenGIS Initiative for Deceased Migrants](https://humaneborders.info/). Como esta tabla también fue utilizada para el proyecto final de la asignatura Ingeniería de Características, esta disponible en [este](https://github.com/Maleniski/ing-caracteristicas/blob/main/FuentesDatosMigrantes/ARIZONA.csv) archivo de GitHub.\n",
    "\n",
    "La tabla se compone de las columnas que se describen en el siguiente diccionario.\n",
    "\n",
    "| Variable             | Tipo de etiqueta | Etiqueta                                       | Descriptor de la variable                                                               | Tipo de variable     | Unidades     |\n",
    "|----------------------|------------------|------------------------------------------------|-----------------------------------------------------------------------------------------|----------------------|--------------|\n",
    "| Name                 | Nominal          | Nombre                                         | Nombre de la persona ubicada sin vida.                                                  | String               | -            |\n",
    "| Sex                  | Nominal          | Sexo                                           | Sexo de la persona ubicada sin vida.                                                    | String (male/female) | -            |\n",
    "| Age                  | Ordinal          | Edad                                           | Edad de la persona ubicada sin vida.                                                    | Int                  | [0,$\\infty$) |\n",
    "| Reporting Date       | Ordinal          | Fecha de reporte                               | Fecha en que se reportó el avistamiento del cuerpo.                                     | Datetime             | Año-mes-día  |\n",
    "| Cause of Death       | Nominal          | Motivos de la muerte                           | Descripción breve de las causas de la muerte.                                           | String               |              |\n",
    "| OME Determined COD   | Nominal          | Causa de la muerte determinada por el forense. | Causa de la muerte (COD) determinada por el forense (Office of Medical Examiner / OME). | String               |              |\n",
    "| Body Condition       | Nominal          | Condiciones del cuerpo                         | Nivel de putrefacción del cuerpo al momento de ser encontrado.                          | String               |              |\n",
    "| Post Mortem Interval | Ordinal          | Intervalo después de la muerte.                | Una estimación en meses del tiempo que llevaba la persona fallecida.                    | String               |              |\n",
    "| County               | Nominal          | Condado.                                       | Condado (equivalente a municipio) donde fue encontrado el cuerpo.                       | String               |              |"
   ]
  },
  {
   "cell_type": "markdown",
   "metadata": {},
   "source": [
    "## Punto 1. Crear una base de datos por medio del manejador MySql, SQLite, o PostgreSQL que se componga de una o varias tablas. \n",
    "\n"
   ]
  },
  {
   "cell_type": "markdown",
   "metadata": {},
   "source": [
    "Dentro de MySQL Workbench creamos una nueva base de datos la cual llamaremos 'arizonaopengis'\n",
    "\n",
    "<img src=\"Imagenes\\\\Imagen1.png\" alt=\"Alternative text\"/>"
   ]
  },
  {
   "cell_type": "markdown",
   "metadata": {},
   "source": [
    "Esta ventana nos aparece ya que creamos la base de datos, indicando que hemos acabado el proceso.\n",
    "\n",
    "<img src=\"Imagenes\\\\Imagen2.png\" alt=\"Alternative text\"/>"
   ]
  },
  {
   "cell_type": "markdown",
   "metadata": {},
   "source": [
    "Ahora procedemos a crear la tabla dentro de la base de datos. Antes de eso, la tabla de datos en la columna \"Age\" tiene datos faltantes. El wizard de MySQL para importar tablas desde archivos csv no maneja bien los datos faltantes y marcará con 0 (cero) a todos los datos faltantes. Eso es grave ya que el valor cero en nuestra columna tiene interpretación al ser la edad de la persona fallecida. Aprovechando que es solamente una tabla y no tiene muchos registros, realizamos un data wrangling con python en donde asignamos los nulos con el valor -1.\n",
    "\n",
    "<img src=\"Imagenes\\\\Imagen3.png\" alt=\"Alternative text\"/>"
   ]
  },
  {
   "cell_type": "markdown",
   "metadata": {},
   "source": [
    "Procedemos a crear la tabla con el wizard de MySQL.\n",
    "\n",
    "<img src=\"Imagenes\\\\Imagen4.png\" alt=\"Alternative text\"/>"
   ]
  },
  {
   "cell_type": "markdown",
   "metadata": {},
   "source": [
    "Seleccionamos la tabla.\n",
    "\n",
    "<img src=\"Imagenes\\\\Imagen5.png\" alt=\"Alternative text\"/>"
   ]
  },
  {
   "cell_type": "markdown",
   "metadata": {},
   "source": [
    "Le ponemos el nombre \"migrantmortality\".\n",
    "\n",
    "<img src=\"Imagenes\\\\Imagen6.png\" alt=\"Alternative text\"/>"
   ]
  },
  {
   "cell_type": "markdown",
   "metadata": {},
   "source": [
    "Indicamos de que tipo es la variable de cada columna y corregimos el date format ya que la columna \"Reporting Date\" es de tipo datetime.\n",
    "\n",
    "<img src=\"Imagenes\\\\Imagen7.png\" alt=\"Alternative text\"/>"
   ]
  },
  {
   "cell_type": "markdown",
   "metadata": {},
   "source": [
    "Finalizamos la importación.\n",
    "\n",
    "<img src=\"Imagenes\\\\Imagen8.png\" alt=\"Alternative text\"/>"
   ]
  },
  {
   "cell_type": "markdown",
   "metadata": {},
   "source": [
    "Podemos ver que el wizard no puso bien el primary key (no da opción para marcarlo como tal) y la columna index la marcó con el nombre \"MyUnkownColumn\".\n",
    "\n",
    "<img src=\"Imagenes\\\\Imagen10.png\" alt=\"Alternative text\"/>"
   ]
  },
  {
   "cell_type": "markdown",
   "metadata": {},
   "source": [
    "Es necesario modificar esto. Utilizando la opción \"Alter table\", marcamos la columna \"MyUnknownColumn\" como el primary key (PK) y le cambiamos el nombre a \"id\".\n",
    "\n",
    "<img src=\"Imagenes\\\\Imagen11.png\" alt=\"Alternative text\"/>"
   ]
  },
  {
   "cell_type": "markdown",
   "metadata": {},
   "source": [
    "Completamos los cambios.\n",
    "\n",
    "<img src=\"Imagenes\\\\Imagen12.png\" alt=\"Alternative text\"/>"
   ]
  },
  {
   "cell_type": "markdown",
   "metadata": {},
   "source": [
    "Nuestra tabla esta lista para continuar con la actividad.\n",
    "\n",
    "<img src=\"Imagenes\\\\Imagen13.png\" alt=\"Alternative text\"/>"
   ]
  },
  {
   "cell_type": "markdown",
   "metadata": {},
   "source": [
    "## Punto 2. Por medio de un Jupyter Notebook crear una conexión a la base de datos. Realizar una consulta a la base de datos desde el notebook."
   ]
  },
  {
   "cell_type": "markdown",
   "metadata": {},
   "source": [
    "Se importan las librerías necesarias."
   ]
  },
  {
   "cell_type": "code",
   "execution_count": 1,
   "metadata": {},
   "outputs": [
    {
     "name": "stderr",
     "output_type": "stream",
     "text": [
      "d:\\Archivos de Programa\\Conda\\envs\\metodologias_pf\\lib\\site-packages\\scipy\\__init__.py:146: UserWarning: A NumPy version >=1.16.5 and <1.23.0 is required for this version of SciPy (detected version 1.23.4\n",
      "  warnings.warn(f\"A NumPy version >={np_minversion} and <{np_maxversion}\"\n"
     ]
    }
   ],
   "source": [
    "import pymysql\n",
    "import pandas as pd\n",
    "import seaborn as sns"
   ]
  },
  {
   "cell_type": "markdown",
   "metadata": {},
   "source": [
    "Creamos la conexión a la base de datos."
   ]
  },
  {
   "cell_type": "code",
   "execution_count": 54,
   "metadata": {},
   "outputs": [],
   "source": [
    "conn=pymysql.connect(host='XXX',port=int(3306),user='XXX',passwd='XXX',db='arizonaopengis')"
   ]
  },
  {
   "cell_type": "markdown",
   "metadata": {},
   "source": [
    "Realizamos una consulta para corroborar que se realizó la conexión de manera correcta."
   ]
  },
  {
   "cell_type": "code",
   "execution_count": 55,
   "metadata": {},
   "outputs": [
    {
     "name": "stderr",
     "output_type": "stream",
     "text": [
      "C:\\Users\\male1\\AppData\\Local\\Temp\\ipykernel_17640\\1887106604.py:1: UserWarning: pandas only supports SQLAlchemy connectable (engine/connection) or database string URI or sqlite3 DBAPI2 connection. Other DBAPI2 objects are not tested. Please consider using SQLAlchemy.\n",
      "  df=pd.read_sql_query(\"SELECT * FROM arizonaopengis.migrantmortality\", conn, index_col='id')\n"
     ]
    },
    {
     "data": {
      "text/html": [
       "<div>\n",
       "<style scoped>\n",
       "    .dataframe tbody tr th:only-of-type {\n",
       "        vertical-align: middle;\n",
       "    }\n",
       "\n",
       "    .dataframe tbody tr th {\n",
       "        vertical-align: top;\n",
       "    }\n",
       "\n",
       "    .dataframe thead th {\n",
       "        text-align: right;\n",
       "    }\n",
       "</style>\n",
       "<table border=\"1\" class=\"dataframe\">\n",
       "  <thead>\n",
       "    <tr style=\"text-align: right;\">\n",
       "      <th></th>\n",
       "      <th>Name</th>\n",
       "      <th>Sex</th>\n",
       "      <th>Age</th>\n",
       "      <th>Reporting Date</th>\n",
       "      <th>Cause of Death</th>\n",
       "      <th>OME Determined COD</th>\n",
       "      <th>Body Condition</th>\n",
       "      <th>Post Mortem Interval</th>\n",
       "      <th>County</th>\n",
       "    </tr>\n",
       "    <tr>\n",
       "      <th>id</th>\n",
       "      <th></th>\n",
       "      <th></th>\n",
       "      <th></th>\n",
       "      <th></th>\n",
       "      <th></th>\n",
       "      <th></th>\n",
       "      <th></th>\n",
       "      <th></th>\n",
       "      <th></th>\n",
       "    </tr>\n",
       "  </thead>\n",
       "  <tbody>\n",
       "    <tr>\n",
       "      <th>0</th>\n",
       "      <td>Unidentified</td>\n",
       "      <td>male</td>\n",
       "      <td>-1</td>\n",
       "      <td>2000-01-10</td>\n",
       "      <td>Skeletal Remains</td>\n",
       "      <td>UNDETERMINED - MUMMIFIED AND SKELETAL REMAINS</td>\n",
       "      <td>Skeletonization w/ mummification</td>\n",
       "      <td>&lt; 5 weeks</td>\n",
       "      <td>YUMA</td>\n",
       "    </tr>\n",
       "    <tr>\n",
       "      <th>1</th>\n",
       "      <td>Nicolas, Tomas</td>\n",
       "      <td>male</td>\n",
       "      <td>17</td>\n",
       "      <td>2000-01-22</td>\n",
       "      <td>Exposure</td>\n",
       "      <td>HYPOTHERMIA</td>\n",
       "      <td>Fully fleshed</td>\n",
       "      <td>&lt; 1 day</td>\n",
       "      <td>PIMA</td>\n",
       "    </tr>\n",
       "    <tr>\n",
       "      <th>2</th>\n",
       "      <td>Unidentified</td>\n",
       "      <td>male</td>\n",
       "      <td>-1</td>\n",
       "      <td>2000-01-20</td>\n",
       "      <td>Skeletal Remains</td>\n",
       "      <td>UNDETERMINED - SKELETAL REMAINS</td>\n",
       "      <td>Complete skeletonization w/ bone degradation</td>\n",
       "      <td>&gt; 6-8 months</td>\n",
       "      <td>SANTA CRUZ</td>\n",
       "    </tr>\n",
       "    <tr>\n",
       "      <th>3</th>\n",
       "      <td>Unidentified</td>\n",
       "      <td>male</td>\n",
       "      <td>-1</td>\n",
       "      <td>2000-01-10</td>\n",
       "      <td>Skeletal Remains</td>\n",
       "      <td>UNDETERMINED - SKELETAL REMAINS</td>\n",
       "      <td>Complete skeletonization w/ disarticulation</td>\n",
       "      <td>&lt; 6-8 months</td>\n",
       "      <td>PIMA</td>\n",
       "    </tr>\n",
       "    <tr>\n",
       "      <th>4</th>\n",
       "      <td>Candia-Bravo, Maria Del Rocio</td>\n",
       "      <td>female</td>\n",
       "      <td>20</td>\n",
       "      <td>2000-02-05</td>\n",
       "      <td>Blunt Force Injury</td>\n",
       "      <td>MULTIPLE BLUNT FORCE INJURIES</td>\n",
       "      <td>Fully fleshed</td>\n",
       "      <td>&lt; 1 day</td>\n",
       "      <td>PIMA</td>\n",
       "    </tr>\n",
       "  </tbody>\n",
       "</table>\n",
       "</div>"
      ],
      "text/plain": [
       "                             Name     Sex  Age Reporting Date  \\\n",
       "id                                                              \n",
       "0                    Unidentified    male   -1     2000-01-10   \n",
       "1                  Nicolas, Tomas    male   17     2000-01-22   \n",
       "2                    Unidentified    male   -1     2000-01-20   \n",
       "3                    Unidentified    male   -1     2000-01-10   \n",
       "4   Candia-Bravo, Maria Del Rocio  female   20     2000-02-05   \n",
       "\n",
       "        Cause of Death                             OME Determined COD  \\\n",
       "id                                                                      \n",
       "0     Skeletal Remains  UNDETERMINED - MUMMIFIED AND SKELETAL REMAINS   \n",
       "1             Exposure                                    HYPOTHERMIA   \n",
       "2     Skeletal Remains                UNDETERMINED - SKELETAL REMAINS   \n",
       "3     Skeletal Remains                UNDETERMINED - SKELETAL REMAINS   \n",
       "4   Blunt Force Injury                  MULTIPLE BLUNT FORCE INJURIES   \n",
       "\n",
       "                                  Body Condition Post Mortem Interval  \\\n",
       "id                                                                      \n",
       "0               Skeletonization w/ mummification           < 5 weeks    \n",
       "1                                  Fully fleshed              < 1 day   \n",
       "2   Complete skeletonization w/ bone degradation        > 6-8 months    \n",
       "3    Complete skeletonization w/ disarticulation        < 6-8 months    \n",
       "4                                  Fully fleshed              < 1 day   \n",
       "\n",
       "        County  \n",
       "id              \n",
       "0         YUMA  \n",
       "1         PIMA  \n",
       "2   SANTA CRUZ  \n",
       "3         PIMA  \n",
       "4         PIMA  "
      ]
     },
     "execution_count": 55,
     "metadata": {},
     "output_type": "execute_result"
    }
   ],
   "source": [
    "df=pd.read_sql_query(\"SELECT * FROM arizonaopengis.migrantmortality\", conn, index_col='id')\n",
    "\n",
    "df.head(5)"
   ]
  },
  {
   "cell_type": "markdown",
   "metadata": {},
   "source": [
    "Realizamos una consulta más específica. La edades de la columna 'Age' con valores -1 de tabla 'migrantmortality' significa que el registro no contaba con valor de edad. Efectuamos una consulta de los registros que no tienen el valor -1."
   ]
  },
  {
   "cell_type": "code",
   "execution_count": 18,
   "metadata": {},
   "outputs": [],
   "source": [
    "query='''SELECT * FROM arizonaopengis.migrantmortality\n",
    "        WHERE migrantmortality.Age != -1'''"
   ]
  },
  {
   "cell_type": "code",
   "execution_count": 19,
   "metadata": {},
   "outputs": [
    {
     "name": "stderr",
     "output_type": "stream",
     "text": [
      "C:\\Users\\male1\\AppData\\Local\\Temp\\ipykernel_17640\\2716538889.py:1: UserWarning: pandas only supports SQLAlchemy connectable (engine/connection) or database string URI or sqlite3 DBAPI2 connection. Other DBAPI2 objects are not tested. Please consider using SQLAlchemy.\n",
      "  df=pd.read_sql_query(query, conn, index_col='id')\n"
     ]
    },
    {
     "data": {
      "text/html": [
       "<div>\n",
       "<style scoped>\n",
       "    .dataframe tbody tr th:only-of-type {\n",
       "        vertical-align: middle;\n",
       "    }\n",
       "\n",
       "    .dataframe tbody tr th {\n",
       "        vertical-align: top;\n",
       "    }\n",
       "\n",
       "    .dataframe thead th {\n",
       "        text-align: right;\n",
       "    }\n",
       "</style>\n",
       "<table border=\"1\" class=\"dataframe\">\n",
       "  <thead>\n",
       "    <tr style=\"text-align: right;\">\n",
       "      <th></th>\n",
       "      <th>Name</th>\n",
       "      <th>Sex</th>\n",
       "      <th>Age</th>\n",
       "      <th>Reporting Date</th>\n",
       "      <th>Cause of Death</th>\n",
       "      <th>OME Determined COD</th>\n",
       "      <th>Body Condition</th>\n",
       "      <th>Post Mortem Interval</th>\n",
       "      <th>County</th>\n",
       "    </tr>\n",
       "    <tr>\n",
       "      <th>id</th>\n",
       "      <th></th>\n",
       "      <th></th>\n",
       "      <th></th>\n",
       "      <th></th>\n",
       "      <th></th>\n",
       "      <th></th>\n",
       "      <th></th>\n",
       "      <th></th>\n",
       "      <th></th>\n",
       "    </tr>\n",
       "  </thead>\n",
       "  <tbody>\n",
       "    <tr>\n",
       "      <th>1</th>\n",
       "      <td>Nicolas, Tomas</td>\n",
       "      <td>male</td>\n",
       "      <td>17</td>\n",
       "      <td>2000-01-22</td>\n",
       "      <td>Exposure</td>\n",
       "      <td>HYPOTHERMIA</td>\n",
       "      <td>Fully fleshed</td>\n",
       "      <td>&lt; 1 day</td>\n",
       "      <td>PIMA</td>\n",
       "    </tr>\n",
       "    <tr>\n",
       "      <th>4</th>\n",
       "      <td>Candia-Bravo, Maria Del Rocio</td>\n",
       "      <td>female</td>\n",
       "      <td>20</td>\n",
       "      <td>2000-02-05</td>\n",
       "      <td>Blunt Force Injury</td>\n",
       "      <td>MULTIPLE BLUNT FORCE INJURIES</td>\n",
       "      <td>Fully fleshed</td>\n",
       "      <td>&lt; 1 day</td>\n",
       "      <td>PIMA</td>\n",
       "    </tr>\n",
       "    <tr>\n",
       "      <th>5</th>\n",
       "      <td>Enriquez-Hipolito, Natali</td>\n",
       "      <td>female</td>\n",
       "      <td>14</td>\n",
       "      <td>2000-02-05</td>\n",
       "      <td>Blunt Force Injury</td>\n",
       "      <td>MULTIPLE BLUNT FORCE INJURIES</td>\n",
       "      <td>Fully fleshed</td>\n",
       "      <td>&lt; 1 day</td>\n",
       "      <td>PIMA</td>\n",
       "    </tr>\n",
       "    <tr>\n",
       "      <th>6</th>\n",
       "      <td>Castillo, Emma</td>\n",
       "      <td>female</td>\n",
       "      <td>40</td>\n",
       "      <td>2000-02-05</td>\n",
       "      <td>Blunt Force Injury</td>\n",
       "      <td>MULTIPLE BLUNT FORCE INJURIES</td>\n",
       "      <td>Fully fleshed</td>\n",
       "      <td>&lt; 1 day</td>\n",
       "      <td>PIMA</td>\n",
       "    </tr>\n",
       "    <tr>\n",
       "      <th>7</th>\n",
       "      <td>Morales-Avenado, Luis</td>\n",
       "      <td>male</td>\n",
       "      <td>41</td>\n",
       "      <td>2000-02-05</td>\n",
       "      <td>Blunt Force Injury</td>\n",
       "      <td>MULTIPLE BLUNT FORCE INJURIES</td>\n",
       "      <td>Fully fleshed</td>\n",
       "      <td>&lt; 1 day</td>\n",
       "      <td>PIMA</td>\n",
       "    </tr>\n",
       "  </tbody>\n",
       "</table>\n",
       "</div>"
      ],
      "text/plain": [
       "                             Name     Sex  Age Reporting Date  \\\n",
       "id                                                              \n",
       "1                  Nicolas, Tomas    male   17     2000-01-22   \n",
       "4   Candia-Bravo, Maria Del Rocio  female   20     2000-02-05   \n",
       "5       Enriquez-Hipolito, Natali  female   14     2000-02-05   \n",
       "6                  Castillo, Emma  female   40     2000-02-05   \n",
       "7           Morales-Avenado, Luis    male   41     2000-02-05   \n",
       "\n",
       "        Cause of Death             OME Determined COD Body Condition  \\\n",
       "id                                                                     \n",
       "1             Exposure                    HYPOTHERMIA  Fully fleshed   \n",
       "4   Blunt Force Injury  MULTIPLE BLUNT FORCE INJURIES  Fully fleshed   \n",
       "5   Blunt Force Injury  MULTIPLE BLUNT FORCE INJURIES  Fully fleshed   \n",
       "6   Blunt Force Injury  MULTIPLE BLUNT FORCE INJURIES  Fully fleshed   \n",
       "7   Blunt Force Injury  MULTIPLE BLUNT FORCE INJURIES  Fully fleshed   \n",
       "\n",
       "   Post Mortem Interval County  \n",
       "id                              \n",
       "1               < 1 day   PIMA  \n",
       "4               < 1 day   PIMA  \n",
       "5               < 1 day   PIMA  \n",
       "6               < 1 day   PIMA  \n",
       "7               < 1 day   PIMA  "
      ]
     },
     "execution_count": 19,
     "metadata": {},
     "output_type": "execute_result"
    }
   ],
   "source": [
    "df=pd.read_sql_query(query, conn, index_col='id')\n",
    "\n",
    "df.head(5)"
   ]
  },
  {
   "cell_type": "markdown",
   "metadata": {},
   "source": [
    "## Punto 3. Con los datos disponibles en el Notebook, crear una o más gráficas que representen la información descargada."
   ]
  },
  {
   "cell_type": "markdown",
   "metadata": {},
   "source": [
    "Hacemos un histograma de las edades."
   ]
  },
  {
   "cell_type": "code",
   "execution_count": 25,
   "metadata": {},
   "outputs": [
    {
     "data": {
      "text/plain": [
       "<AxesSubplot:xlabel='Age', ylabel='Count'>"
      ]
     },
     "execution_count": 25,
     "metadata": {},
     "output_type": "execute_result"
    },
    {
     "data": {
      "image/png": "[encoded data removed]",
      "text/plain": [
       "<Figure size 640x480 with 1 Axes>"
      ]
     },
     "metadata": {},
     "output_type": "display_data"
    }
   ],
   "source": [
    "sns.histplot(data=df,x=\"Age\")"
   ]
  },
  {
   "cell_type": "markdown",
   "metadata": {},
   "source": [
    "Finalmente, hacemos una gráfica de barras de la columna 'Body Condition'."
   ]
  },
  {
   "cell_type": "code",
   "execution_count": 52,
   "metadata": {},
   "outputs": [
    {
     "data": {
      "text/html": [
       "<div>\n",
       "<style scoped>\n",
       "    .dataframe tbody tr th:only-of-type {\n",
       "        vertical-align: middle;\n",
       "    }\n",
       "\n",
       "    .dataframe tbody tr th {\n",
       "        vertical-align: top;\n",
       "    }\n",
       "\n",
       "    .dataframe thead th {\n",
       "        text-align: right;\n",
       "    }\n",
       "</style>\n",
       "<table border=\"1\" class=\"dataframe\">\n",
       "  <thead>\n",
       "    <tr style=\"text-align: right;\">\n",
       "      <th></th>\n",
       "      <th>Body Condition</th>\n",
       "      <th>Cantidad</th>\n",
       "    </tr>\n",
       "  </thead>\n",
       "  <tbody>\n",
       "    <tr>\n",
       "      <th>4</th>\n",
       "      <td>Fully fleshed</td>\n",
       "      <td>1023</td>\n",
       "    </tr>\n",
       "    <tr>\n",
       "      <th>2</th>\n",
       "      <td>Decomposed</td>\n",
       "      <td>376</td>\n",
       "    </tr>\n",
       "    <tr>\n",
       "      <th>7</th>\n",
       "      <td>Skeletonization w/ mummification</td>\n",
       "      <td>273</td>\n",
       "    </tr>\n",
       "    <tr>\n",
       "      <th>3</th>\n",
       "      <td>Decomposed w/ focal skeletonization</td>\n",
       "      <td>217</td>\n",
       "    </tr>\n",
       "    <tr>\n",
       "      <th>6</th>\n",
       "      <td>Skeletonization w/ articulation/ligamentous at...</td>\n",
       "      <td>164</td>\n",
       "    </tr>\n",
       "    <tr>\n",
       "      <th>0</th>\n",
       "      <td>Complete skeletonization w/ bone degradation</td>\n",
       "      <td>160</td>\n",
       "    </tr>\n",
       "    <tr>\n",
       "      <th>1</th>\n",
       "      <td>Complete skeletonization w/ disarticulation</td>\n",
       "      <td>124</td>\n",
       "    </tr>\n",
       "    <tr>\n",
       "      <th>5</th>\n",
       "      <td>Other</td>\n",
       "      <td>1</td>\n",
       "    </tr>\n",
       "  </tbody>\n",
       "</table>\n",
       "</div>"
      ],
      "text/plain": [
       "                                      Body Condition  Cantidad\n",
       "4                                      Fully fleshed      1023\n",
       "2                                         Decomposed       376\n",
       "7                   Skeletonization w/ mummification       273\n",
       "3                Decomposed w/ focal skeletonization       217\n",
       "6  Skeletonization w/ articulation/ligamentous at...       164\n",
       "0       Complete skeletonization w/ bone degradation       160\n",
       "1        Complete skeletonization w/ disarticulation       124\n",
       "5                                              Other         1"
      ]
     },
     "execution_count": 52,
     "metadata": {},
     "output_type": "execute_result"
    }
   ],
   "source": [
    "body_c=(df.groupby(\"Body Condition\").count()\n",
    "        .reset_index()\n",
    "        .sort_values(by=\"Name\", ascending=False)\n",
    "        .rename(columns={\"Name\":\"Cantidad\"})[[\"Body Condition\",\"Cantidad\"]])\n",
    "body_c"
   ]
  },
  {
   "cell_type": "code",
   "execution_count": 53,
   "metadata": {},
   "outputs": [
    {
     "data": {
      "text/plain": [
       "<AxesSubplot:xlabel='Body Condition'>"
      ]
     },
     "execution_count": 53,
     "metadata": {},
     "output_type": "execute_result"
    },
    {
     "data": {
      "image/png": "[encoded data removed]",
      "text/plain": [
       "<Figure size 640x480 with 1 Axes>"
      ]
     },
     "metadata": {},
     "output_type": "display_data"
    }
   ],
   "source": [
    "body_c.plot.bar(x=\"Body Condition\",y=\"Cantidad\")"
   ]
  }
 ],
 "metadata": {
  "kernelspec": {
   "display_name": "Python 3.10.8 ('metodologias_pf')",
   "language": "python",
   "name": "python3"
  },
  "language_info": {
   "codemirror_mode": {
    "name": "ipython",
    "version": 3
   },
   "file_extension": ".py",
   "mimetype": "text/x-python",
   "name": "python",
   "nbconvert_exporter": "python",
   "pygments_lexer": "ipython3",
   "version": "3.10.8"
  },
  "orig_nbformat": 4,
  "vscode": {
   "interpreter": {
    "hash": "a249cf8bc0c27cc3999e12a2587bd82f9424e28603995884b49a658afb734c71"
   }
  }
 },
 "nbformat": 4,
 "nbformat_minor": 2
}
